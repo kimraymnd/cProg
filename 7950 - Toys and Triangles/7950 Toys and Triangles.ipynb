{
 "cells": [
  {
   "cell_type": "code",
   "execution_count": 29,
   "metadata": {
    "collapsed": true
   },
   "outputs": [],
   "source": [
    "from math import sqrt\n",
    "from operator import itemgetter\n",
    "\n",
    "class Point:\n",
    "    \"2D point with non-integer coordinates\"\n",
    "    def __init__(self, x, y):\n",
    "        self.x = x\n",
    "        self.y = y\n",
    "    def __str__(self):\n",
    "        return \"(\"+str(self.x)+\", \"+str(self.y)+\")\"    \n",
    "    def __eq__(self,p):\n",
    "        return (abs(self.x - p.x) < EPS and abs(self.y - p.y) < EPS)\n",
    "\n",
    "def circ_circ_intersection(c1, r1, c2, r2):\n",
    "    x1,y1,r1 = c1[0], c1[1], r1\n",
    "    x2,y2,r2 = c2[0], c2[1], r2\n",
    "    dx,dy = x2-x1,y2-y1\n",
    "    d = sqrt(dx*dx+dy*dy)\n",
    "    if d > r1+r2:\n",
    "        print \"#1\"\n",
    "        return None # no solutions, the circles are separate\n",
    "    if d < abs(r1-r2):\n",
    "        print \"#2\"\n",
    "        return None # no solutions because one circle is contained within the other\n",
    "    if d == 0 and r1 == r2:\n",
    "        print \"#3\"\n",
    "        return None # circles are coincident and there are an infinite number of solutions\n",
    "\n",
    "    a = (r1*r1-r2*r2+d*d)/(2*d)\n",
    "    h = sqrt(r1*r1-a*a)\n",
    "    xm = x1 + a*dx/d\n",
    "    ym = y1 + a*dy/d\n",
    "    xs1 = xm + h*dy/d\n",
    "    xs2 = xm - h*dy/d\n",
    "    ys1 = ym - h*dx/d\n",
    "    ys2 = ym + h*dx/d\n",
    "    return (xs1,ys1),(xs2,ys2)\n",
    "\n",
    "def triIneq(a,b,c):\n",
    "    return (a+b>c and a+c>b and b+c>a)\n",
    "\n",
    "def testTI(r):\n",
    "    '''tests triangle inequality on sliding window(2) of triangle lengths'''\n",
    "    assert len(r)%2 == 1\n",
    "    for i in range((len(r)-1)/2):\n",
    "        if not triIneq(r[2*i],r[2*i+1],r[2*i+2]):\n",
    "            return False \n",
    "    return True\n",
    "\n",
    "def getVertex(p, r):\n",
    "    '''return max x value of third vertex'''\n",
    "    assert isinstance(p,list) and isinstance(r,list) and len(p)==2 and len(r)==2\n",
    "    return max(circ_circ_intersection(p[0],r[0],p[1],r[1]), key=itemgetter(0))\n",
    "\n",
    "def getMaxX(r):\n",
    "    assert testTI(r)\n",
    "    p = [(0,0)]\n",
    "    p.append((0,r[0]))\n",
    "    for i in range((len(r)-1)/2):\n",
    "        p.append(getVertex(p, r[2*i+1:2*i+3]))\n",
    "        p = p[1:]\n",
    "#         print \n",
    "    return p[-1][0]\n",
    "    "
   ]
  },
  {
   "cell_type": "code",
   "execution_count": 31,
   "metadata": {},
   "outputs": [
    {
     "name": "stdout",
     "output_type": "stream",
     "text": [
      "66.9495287222\n",
      "32.00\n",
      "[15, 25, 30, 32, 18]\n"
     ]
    }
   ],
   "source": [
    "from itertools import permutations\n",
    "input = [50,40,30,29,30,30,49,20,10,4]\n",
    "# input = [18, 30, 25, 32, 15, 40, 42]\n",
    "\n",
    "input = [18, 30 ,25 ,32 ,15, 42, 40]\n",
    "# input = [18, 25 ,30 ,15, 32 ,42,40 ]\n",
    "print(getMaxX(input))\n",
    "\n",
    "input = [18, 30 ,25 ,32 ,15] #, 42, 40]\n",
    "n = len(input) if len(input)%2==1 else len(input)-1\n",
    "\n",
    "triangle_to_points = {}\n",
    "\n",
    "max_x = 0\n",
    "for i in permutations(input,n):\n",
    "    if testTI(list(i)):\n",
    "        temp = getMaxX(list(i))\n",
    "        if max_x == temp: print \"another optimal sol\"\n",
    "        if temp > max_x:\n",
    "            max_x = temp \n",
    "            perm = list(i)\n",
    "print \"%.2f\" %max_x\n",
    "print perm"
   ]
  },
  {
   "cell_type": "code",
   "execution_count": null,
   "metadata": {
    "collapsed": true
   },
   "outputs": [],
   "source": []
  },
  {
   "cell_type": "code",
   "execution_count": null,
   "metadata": {},
   "outputs": [],
   "source": []
  },
  {
   "cell_type": "code",
   "execution_count": null,
   "metadata": {
    "collapsed": true
   },
   "outputs": [],
   "source": []
  }
 ],
 "metadata": {
  "kernelspec": {
   "display_name": "Python 2",
   "language": "python",
   "name": "python2"
  },
  "language_info": {
   "codemirror_mode": {
    "name": "ipython",
    "version": 2
   },
   "file_extension": ".py",
   "mimetype": "text/x-python",
   "name": "python",
   "nbconvert_exporter": "python",
   "pygments_lexer": "ipython2",
   "version": "2.7.13"
  }
 },
 "nbformat": 4,
 "nbformat_minor": 2
}
