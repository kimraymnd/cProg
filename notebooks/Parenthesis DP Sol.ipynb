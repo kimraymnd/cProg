{
 "cells": [
  {
   "cell_type": "markdown",
   "metadata": {},
   "source": [
    "**Notes**\n",
    "- operator in combination with T or F -> determines if you need to look at both tables or just one\n",
    "- Realize you need 2 tables: T table represents the counts we care about, F table represents the evaluations\n",
    "- performing a combination of cells in two distinct rows represents a distinct operator. Distance between the row # above diagonal = # of operators"
   ]
  },
  {
   "cell_type": "code",
   "execution_count": 1,
   "metadata": {},
   "outputs": [
    {
     "name": "stdout",
     "output_type": "stream",
     "text": [
      "f\n"
     ]
    },
    {
     "ename": "ValueError",
     "evalue": "invalid literal for int() with base 10: 'f'",
     "output_type": "error",
     "traceback": [
      "\u001b[0;31m---------------------------------------------------------------------------\u001b[0m",
      "\u001b[0;31mValueError\u001b[0m                                Traceback (most recent call last)",
      "\u001b[0;32m<ipython-input-1-dd29bdb015f8>\u001b[0m in \u001b[0;36m<module>\u001b[0;34m()\u001b[0m\n\u001b[1;32m     70\u001b[0m         \u001b[0;32mprint\u001b[0m \u001b[0;34m(\u001b[0m\u001b[0msolve\u001b[0m\u001b[0;34m(\u001b[0m\u001b[0mo\u001b[0m\u001b[0;34m,\u001b[0m \u001b[0mv\u001b[0m\u001b[0;34m)\u001b[0m \u001b[0;34m%\u001b[0m \u001b[0;36m1003\u001b[0m\u001b[0;34m)\u001b[0m\u001b[0;34m\u001b[0m\u001b[0m\n\u001b[1;32m     71\u001b[0m \u001b[0;34m\u001b[0m\u001b[0m\n\u001b[0;32m---> 72\u001b[0;31m \u001b[0mmain\u001b[0m\u001b[0;34m(\u001b[0m\u001b[0;34m)\u001b[0m\u001b[0;34m\u001b[0m\u001b[0m\n\u001b[0m",
      "\u001b[0;32m<ipython-input-1-dd29bdb015f8>\u001b[0m in \u001b[0;36mmain\u001b[0;34m()\u001b[0m\n\u001b[1;32m     51\u001b[0m \u001b[0;34m\u001b[0m\u001b[0m\n\u001b[1;32m     52\u001b[0m \u001b[0;32mdef\u001b[0m \u001b[0mmain\u001b[0m\u001b[0;34m(\u001b[0m\u001b[0;34m)\u001b[0m\u001b[0;34m:\u001b[0m\u001b[0;34m\u001b[0m\u001b[0m\n\u001b[0;32m---> 53\u001b[0;31m     \u001b[0mt\u001b[0m\u001b[0;34m=\u001b[0m\u001b[0mint\u001b[0m\u001b[0;34m(\u001b[0m\u001b[0mraw_input\u001b[0m\u001b[0;34m(\u001b[0m\u001b[0;34m)\u001b[0m\u001b[0;34m)\u001b[0m\u001b[0;34m\u001b[0m\u001b[0m\n\u001b[0m\u001b[1;32m     54\u001b[0m     \u001b[0;32mfor\u001b[0m \u001b[0mti\u001b[0m \u001b[0;32min\u001b[0m \u001b[0mxrange\u001b[0m\u001b[0;34m(\u001b[0m\u001b[0mt\u001b[0m\u001b[0;34m)\u001b[0m\u001b[0;34m:\u001b[0m\u001b[0;34m\u001b[0m\u001b[0m\n\u001b[1;32m     55\u001b[0m         \u001b[0mn\u001b[0m \u001b[0;34m=\u001b[0m \u001b[0mint\u001b[0m\u001b[0;34m(\u001b[0m\u001b[0mraw_input\u001b[0m\u001b[0;34m(\u001b[0m\u001b[0;34m)\u001b[0m\u001b[0;34m)\u001b[0m\u001b[0;34m\u001b[0m\u001b[0m\n",
      "\u001b[0;31mValueError\u001b[0m: invalid literal for int() with base 10: 'f'"
     ]
    }
   ],
   "source": [
    "import numpy as np\n",
    "import sys\n",
    "\n",
    "def solve(o, v):\n",
    "    n = len(o)\n",
    "    m = len(v)\n",
    "    T = []\n",
    "    F = []\n",
    "    for i in xrange(m):\n",
    "        T.append([])\n",
    "        F.append([])\n",
    "        for j in xrange(m):\n",
    "            T[i].append(0)\n",
    "            F[i].append(0)\n",
    "    for i in xrange(m):\n",
    "        T[i][i] = v[i]\n",
    "        F[i][i] = 1-v[i]\n",
    "\n",
    "    for gap in xrange(1,m):\n",
    "        i = 0\n",
    "        j = gap\n",
    "        while j < m:\n",
    "            for g in xrange(gap):\n",
    "                k = i + g\n",
    "                op = o[k]\n",
    "                if (op == '&'):\n",
    "                    T[i][j] += T[i][k]*T[k+1][j]\n",
    "                    F[i][j] += T[i][k]*F[k+1][j] + F[i][k]*T[k+1][j] + F[i][k]*F[k+1][j]\n",
    "                elif (op == '|'):\n",
    "                    T[i][j] += T[i][k]*F[k+1][j] + F[i][k]*T[k+1][j] + T[i][k]*T[k+1][j]\n",
    "                    F[i][j] += F[i][k]*F[k+1][j]\n",
    "                elif (op == '^'):\n",
    "                    T[i][j] += T[i][k]*F[k+1][j] + F[i][k]*T[k+1][j]\n",
    "                    F[i][j] += T[i][k]*T[k+1][j] + F[i][k]*F[k+1][j]\n",
    "                else:\n",
    "                    raise AssertionError(\"Invalid operator %s\" % op)\n",
    "                print(\"op: \" + str(op))\n",
    "                print(\"T[i][j]: \" + str(T[i][j]))\n",
    "                print(\"F[i][j]: \" + str(F[i][j]))\n",
    "                print(\"i=\"+str(i)+\", j=\"+str(j))\n",
    "                print(\"k=\"+str(k)+\", g=\"+str(g))\n",
    "\n",
    "                print(np.matrix(F))\n",
    "                print(np.matrix(T))\n",
    "            i += 1\n",
    "            j += 1\n",
    "\n",
    "    ans = T[0][m-1]\n",
    "    return ans\n",
    "\n",
    "\n",
    "def main():\n",
    "    t=int(raw_input())\n",
    "    for ti in xrange(t):\n",
    "        n = int(raw_input())\n",
    "        s=raw_input().strip()\n",
    "        k = 0\n",
    "        o = []\n",
    "        v = []\n",
    "        for c in s:\n",
    "            if (k & 1):\n",
    "                o.append(c)\n",
    "            else:\n",
    "                if c == 'T':\n",
    "                    v.append(1)\n",
    "                else:\n",
    "                    v.append(0)\n",
    "            k += 1\n",
    "        print(o, v)\n",
    "        print (solve(o, v) % 1003)\n",
    "\n",
    "main()\n"
   ]
  },
  {
   "cell_type": "code",
   "execution_count": null,
   "metadata": {
    "collapsed": true
   },
   "outputs": [],
   "source": []
  },
  {
   "cell_type": "code",
   "execution_count": null,
   "metadata": {
    "collapsed": true
   },
   "outputs": [],
   "source": []
  }
 ],
 "metadata": {
  "kernelspec": {
   "display_name": "Python 2",
   "language": "python",
   "name": "python2"
  },
  "language_info": {
   "codemirror_mode": {
    "name": "ipython",
    "version": 2
   },
   "file_extension": ".py",
   "mimetype": "text/x-python",
   "name": "python",
   "nbconvert_exporter": "python",
   "pygments_lexer": "ipython2",
   "version": "2.7.13"
  }
 },
 "nbformat": 4,
 "nbformat_minor": 2
}
